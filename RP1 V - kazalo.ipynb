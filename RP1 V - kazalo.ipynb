{
 "cells": [
  {
   "cell_type": "markdown",
   "id": "6de7f8fc-a9d1-41f4-ab7f-e87cef7d4632",
   "metadata": {},
   "source": [
    "vaja 1 - [Uvod - okolje, spremenljivke, vhod, izhod](<RP1 V1 okolje, spremenljivke, vhod in izhod.ipynb>)\n",
    "\n",
    "vaja 2 - [Selekcija](<RP1 V2 selekcija.ipynb>)\n",
    "\n",
    "vaja 3 - [Iteracija (for & while)](<RP1 V3 for in while.ipynb>)\n",
    "\n",
    "vaja 4 - [Branje besedilnih datotek](<RP1 V4 branje txt.ipynb>)\n",
    "\n",
    "vaja 5 - [Uvod v risanje grafov](<RP1 V6 grafi.ipynb>)\n",
    "\n",
    "vaja 6 - [Analitični in numerični pristop - poševni met](<RP1 V7 fizika - poševni met.ipynb>)\n",
    "\n",
    "vaja 7 - [Prikaz enačb in izpeljave - handcalcs](<RP1 V8 handcalcs.ipynb>)\n",
    "\n",
    "vaja 8 - [Povezovanje vsebin - temperature v zidu](<RP1 V9 temperature v zidu.ipynb>)\n",
    "\n",
    "vaja 9 - [Povezovanje vsebin - glaserjev diagram](<>)\n",
    "\n",
    "vaja 10 - [Povezovanje vsebin - ?](<>)"
   ]
  }
 ],
 "metadata": {
  "kernelspec": {
   "display_name": "Python 3 (ipykernel)",
   "language": "python",
   "name": "python3"
  },
  "language_info": {
   "codemirror_mode": {
    "name": "ipython",
    "version": 3
   },
   "file_extension": ".py",
   "mimetype": "text/x-python",
   "name": "python",
   "nbconvert_exporter": "python",
   "pygments_lexer": "ipython3",
   "version": "3.9.20"
  }
 },
 "nbformat": 4,
 "nbformat_minor": 5
}
