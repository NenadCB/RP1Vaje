{
 "cells": [
  {
   "cell_type": "markdown",
   "id": "179a90cc",
   "metadata": {},
   "source": [
    "rešitev domače naloge 'ptice' in zanka while"
   ]
  },
  {
   "cell_type": "markdown",
   "id": "d6fad10d",
   "metadata": {},
   "source": [
    "poševni met\n",
    "\n",
    "$t$ - čas od začetka meta\n",
    "\n",
    "$v_0$ - začetna hitrost, izberemo med 0 in 40 m/s\n",
    "\n",
    "$\\varphi$ - kot izberemo v razponu med 1 in 90 stopinj\n",
    "\n",
    "$g = 9.8 m/s^2$ - gravitacijski pospešek\n",
    "\n",
    "$v_x = v_0 \\cdot \\cos\\varphi$ - hitrost v vodoravni smeri \n",
    "\n",
    "$v_y = v_0 \\cdot \\sin\\varphi - g\\cdot t$ - hitrost v navpični smeri \n",
    "\n",
    "$x = v_x \\cdot t$ - vodoravni premik v času $t$\n",
    "\n",
    "$y = v_y \\cdot t - \\dfrac{g \\cdot t^2}{2}$ - navpični premik v času $t$\n",
    "\n",
    "$h = \\dfrac{v_0^2\\cdot\\sin^2\\varphi}{2 g} $ - največja višina\n",
    "\n",
    "$D = \\dfrac{v_0^2\\cdot\\sin2\\varphi}{g}$ - maksimalna razdalja v vodoravni smeri\n",
    "\n",
    "$t_{skupni} = 2 \\cdot \\dfrac{v_0 \\cdot \\sin\\varphi}{g}$ - čas leta"
   ]
  },
  {
   "cell_type": "code",
   "execution_count": 2,
   "id": "8bfbeaca-88ff-4ebb-a020-55d1e537b350",
   "metadata": {},
   "outputs": [],
   "source": [
    "import matplotlib.pyplot as plt\n",
    "from math import sin, cos, radians\n",
    "import tabulate\n",
    "from IPython.display import HTML, display\n"
   ]
  },
  {
   "cell_type": "markdown",
   "id": "906cd7aa",
   "metadata": {},
   "source": [
    "#### analitična rešitev"
   ]
  },
  {
   "cell_type": "code",
   "execution_count": 4,
   "id": "36cd7673",
   "metadata": {},
   "outputs": [
    {
     "name": "stdout",
     "output_type": "stream",
     "text": [
      "čas leta: 7.22s\n",
      "domet: 255.10m\n",
      "največja višina: 63.78m\n"
     ]
    }
   ],
   "source": [
    "v_0 = 50  # m/s\n",
    "phi = radians(45)   # stopinj\n",
    "\n",
    "g = 9.8  # m/s**2\n",
    "g_sonce = 274.3\n",
    "\n",
    "sez_x = []\n",
    "sez_y = [] \n",
    "yy = []\n",
    "\n",
    "for i in range(100):\n",
    "    t = i / 10  # računamo s korakom na desetinko sekunde\n",
    "    x = v_0 * cos(phi) * t\n",
    "    y = v_0 * sin(phi) * t - (g * t**2) / 2\n",
    "    sez_x.append(x)\n",
    "    sez_y.append(y)\n",
    "    yy.append([t, y])\n",
    "    if y < 0:   #ne mečemo v luknjo\n",
    "        break\n",
    "    \n",
    "        \n",
    "print(f'čas leta: {2 * v_0 * sin(phi) / g:.2f}s')\n",
    "print(f'domet: {v_0**2 * sin(2*phi)/g:.2f}m')\n",
    "print(f'največja višina: {v_0**2 * sin(phi)**2/(2*g):.2f}m')\n",
    "\n",
    "#print(tabulate.tabulate(yy, tablefmt=\"fancy_grid\"))\n"
   ]
  },
  {
   "cell_type": "markdown",
   "id": "f3595905",
   "metadata": {},
   "source": [
    "#### numerična rešitev"
   ]
  },
  {
   "cell_type": "code",
   "execution_count": 6,
   "id": "61f3e74e",
   "metadata": {},
   "outputs": [],
   "source": [
    "v_0 = 50  # m/s\n",
    "phi = radians(45)   # stopinj\n",
    "\n",
    "g = 9.8  # m/s**2\n",
    "g_sonce = 274.3\n",
    "\n",
    "#začetna pozicija\n",
    "x = 0\n",
    "y = 0\n",
    "\n",
    "#vodoravna in navpična komponenta hitrosti\n",
    "v_x = v_0 * cos(phi)\n",
    "v_y = v_0 * sin(phi)\n",
    "\n",
    "delta_t = 0.1  # računamo s korakom na desetinko sekunde (napaka velika, probaj še 0.01)\n",
    "\n",
    "sez_x_num = [x]\n",
    "sez_y_num = [y] \n",
    "\n",
    "for i in range(1000):\n",
    "    \n",
    "    #izračunamo premik pozicije vodoravno in navpično\n",
    "    delta_x = v_x  * delta_t\n",
    "    delta_y = v_y  * delta_t\n",
    "        \n",
    "    #izračunamo novo pozicijo izstrelka\n",
    "    x += delta_x\n",
    "    y += delta_y\n",
    "    \n",
    "    #izračunamo obe komponenti hitrosti v novi poziciji\n",
    "    # v_x se ne spreminja skozi čas\n",
    "    v_y = v_y - g * delta_t\n",
    "    \n",
    "    #shranimo pozicijo\n",
    "    sez_x_num.append(x)\n",
    "    sez_y_num.append(y)\n",
    "\n",
    "    if y < -1:  #ne mečemo v luknjo\n",
    "        break\n",
    "    \n",
    "\n"
   ]
  },
  {
   "cell_type": "markdown",
   "id": "51be6cc0",
   "metadata": {},
   "source": [
    "#### dodaj zračni upor"
   ]
  },
  {
   "cell_type": "code",
   "execution_count": 8,
   "id": "44e55ad6",
   "metadata": {},
   "outputs": [],
   "source": [
    "from math import sin, cos, sqrt, atan\n",
    "\n",
    "v_0 = 50  # m/s\n",
    "phi = radians(45)   # stopinj\n",
    "\n",
    "g = 9.8  # m/s**2\n",
    "g_sonce = 274.3\n",
    "\n",
    "#začetna pozicija\n",
    "x = 0\n",
    "y = 0\n",
    "\n",
    "#vodoravna in navpična komponenta hitrosti\n",
    "v_x = v_0 * cos(phi)\n",
    "v_y = v_0 * sin(phi)\n",
    "\n",
    "k = 0.005 #konstanta, ki določa upor telesa (odvisna od velikosti in oblike telesa)\n",
    "\n",
    "delta_t = 0.01  # računamo s korakom na desetinko sekunde\n",
    "\n",
    "sez_x_zrak = [x]\n",
    "sez_y_zrak = [y] \n",
    "\n",
    "for i in range(1000):\n",
    "    \n",
    "    #izračunamo premik pozicije vodoravno in navpično\n",
    "    delta_x = v_x  * delta_t\n",
    "    delta_y = v_y  * delta_t\n",
    "        \n",
    "    #izračunamo novo pozicijo izstrelka\n",
    "    x += delta_x\n",
    "    y += delta_y\n",
    "    \n",
    "    #izračunamo pospešek/pojemek v vodoravni in navpični smeri\n",
    "    v = sqrt(v_x**2+v_y**2)\n",
    "    phi = atan(v_y/v_x)\n",
    "    a_x = k * v**2 * cos(phi)\n",
    "    a_y = k * v**2 * sin(phi) + g\n",
    "    \n",
    "    #izračunamo obe komponenti hitrosti v novi poziciji\n",
    "    v_x = v_x - a_x * delta_t\n",
    "    v_y = v_y - a_y * delta_t\n",
    "    \n",
    "    #shranimo pozicijo\n",
    "    sez_x_zrak.append(x)\n",
    "    sez_y_zrak.append(y)\n",
    "\n",
    "    if y < -1:    #ne mečemo v luknjo\n",
    "        break"
   ]
  },
  {
   "cell_type": "code",
   "execution_count": 12,
   "id": "2cc3d4a9",
   "metadata": {},
   "outputs": [
    {
     "data": {
      "text/plain": [
       "''"
      ]
     },
     "execution_count": 12,
     "metadata": {},
     "output_type": "execute_result"
    },
    {
     "data": {
      "image/png": "[encoded data removed]",
      "text/plain": [
       "<Figure size 900x300 with 1 Axes>"
      ]
     },
     "metadata": {},
     "output_type": "display_data"
    }
   ],
   "source": [
    "fig, ax = plt.subplots(figsize=(9,3))\n",
    "ax.axis([0, 300, 0, 100])\n",
    "ax.set_title('poševni met')\n",
    "ax.set_xlabel('dolžina [m]')\n",
    "ax.set_ylabel('višina [m]')\n",
    "ax.plot(sez_x, sez_y, label='analitično')\n",
    "ax.plot(sez_x_num, sez_y_num, label='numerično')\n",
    "plt.plot(sez_x_zrak, sez_y_zrak, label='zrak (k=0.005)')\n",
    "plt.legend()\n",
    ";"
   ]
  },
  {
   "cell_type": "code",
   "execution_count": null,
   "id": "7e251cdc-a565-4bb6-8fbc-f9602120568e",
   "metadata": {},
   "outputs": [],
   "source": []
  },
  {
   "cell_type": "markdown",
   "id": "f5a8eb0c",
   "metadata": {},
   "source": [
    "domača naloga, naredite primerjavo obeh rešitev (povprečni pogrešek...)\n",
    "\n",
    "domača naloga epidemija, naslednjič razlaga"
   ]
  }
 ],
 "metadata": {
  "kernelspec": {
   "display_name": "Python 3 (ipykernel)",
   "language": "python",
   "name": "python3"
  },
  "language_info": {
   "codemirror_mode": {
    "name": "ipython",
    "version": 3
   },
   "file_extension": ".py",
   "mimetype": "text/x-python",
   "name": "python",
   "nbconvert_exporter": "python",
   "pygments_lexer": "ipython3",
   "version": "3.9.20"
  }
 },
 "nbformat": 4,
 "nbformat_minor": 5
}
