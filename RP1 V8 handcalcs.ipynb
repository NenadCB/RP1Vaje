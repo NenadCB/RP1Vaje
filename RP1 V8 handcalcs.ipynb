{
 "cells": [
  {
   "cell_type": "code",
   "execution_count": 19,
   "id": "900ff263-2e9e-4362-b099-584f427f572f",
   "metadata": {},
   "outputs": [],
   "source": [
    "import handcalcs.render"
   ]
  },
  {
   "cell_type": "markdown",
   "id": "c162bef5-875f-439f-956e-81836c5cb1d8",
   "metadata": {},
   "source": [
    "## Izračun upogibnega momenta\n",
    "\n",
    "Predpostavimo, da imamo nosilec dolžine $L$ s preprosto podporo na obeh koncih. Nosilec je enakomerno obremenjen z obremenitvijo $q$ na delu dolžine $a$ do $b$ (kjer $0 <= a < b <= L$).\n",
    "\n",
    "![image](nosilec.jpg)\n",
    "\n",
    "Upogibni moment izračunamo v odvisnosti od tega, ali opazujemo prerez pred, za ali v polju obremenitve.   "
   ]
  },
  {
   "cell_type": "markdown",
   "id": "2f302c81-4ddc-429f-94e9-71a2adcdaa17",
   "metadata": {},
   "source": [
    "### vhodni podatki"
   ]
  },
  {
   "cell_type": "code",
   "execution_count": 2,
   "id": "5ec0d65a-6384-47bb-ac0f-c2624d18cff1",
   "metadata": {},
   "outputs": [
    {
     "name": "stderr",
     "output_type": "stream",
     "text": [
      "UsageError: Cell magic `%%render` not found.\n"
     ]
    }
   ],
   "source": [
    "%%render 2 params\n",
    "L = 20 # m\n",
    "a = 2 # m\n",
    "b = 4.5 # m\n",
    "q = 5000 # N/m\n"
   ]
  },
  {
   "cell_type": "markdown",
   "id": "649902e2-c673-477d-b6d3-4b97997465ce",
   "metadata": {},
   "source": [
    "### Reakcijske sile na podporah"
   ]
  },
  {
   "cell_type": "code",
   "execution_count": 80,
   "id": "10a3c20f-16a3-4d03-bcc6-cdbf95b7de78",
   "metadata": {},
   "outputs": [
    {
     "data": {
      "text/latex": [
       "\\[\n",
       "\\begin{aligned}\n",
       "R_{B} &= q \\cdot \\left( b - a \\right) \\cdot \\frac{ \\frac{ a + b }{ 2 } }{ L }  = 5000 \\cdot \\left( 4.50 - 2 \\right) \\cdot \\frac{ \\frac{ 2 + 4.50 }{ 2 } }{ 20 } &= 2031.25  \n",
       "\\\\[10pt]\n",
       "R_{A} &= q \\cdot \\left( b - a \\right) - R_{B}  = 5000 \\cdot \\left( 4.50 - 2 \\right) - 2031.25 &= 10468.75  \n",
       "\\end{aligned}\n",
       "\\]"
      ],
      "text/plain": [
       "<IPython.core.display.Latex object>"
      ]
     },
     "metadata": {},
     "output_type": "display_data"
    }
   ],
   "source": [
    "%%render 2\n",
    "\n",
    "R_B = q*(b-a)*((a+b)/2)/L\n",
    "R_A = q*(b-a)-R_B"
   ]
  },
  {
   "cell_type": "markdown",
   "id": "79dc953f-45b9-4748-9856-b2aa129f6351",
   "metadata": {},
   "source": [
    "### Izračun pred poljem obremenitve "
   ]
  },
  {
   "cell_type": "code",
   "execution_count": 55,
   "id": "58d61bea-dd0b-4b82-9fa6-fae6e738ceb3",
   "metadata": {},
   "outputs": [
    {
     "data": {
      "text/latex": [
       "\\[\n",
       "\\begin{aligned}\n",
       "x &= 1.50 \\; \n",
       "\\\\[10pt]\n",
       "M_{x} &= R_{A} \\cdot x  = 10468.75 \\cdot 1.50 &= 15703.12  \n",
       "\\end{aligned}\n",
       "\\]"
      ],
      "text/plain": [
       "<IPython.core.display.Latex object>"
      ]
     },
     "metadata": {},
     "output_type": "display_data"
    }
   ],
   "source": [
    "%%render 2\n",
    "\n",
    "x = 1.5\n",
    "M_x = R_A*x"
   ]
  },
  {
   "cell_type": "markdown",
   "id": "5d727898-1f16-4e00-8e09-e2ae03ae46a0",
   "metadata": {},
   "source": [
    "### Izračun v polju obremenitve"
   ]
  },
  {
   "cell_type": "code",
   "execution_count": 98,
   "id": "308fc52f-63bd-438f-a58e-31d3749d80f6",
   "metadata": {},
   "outputs": [
    {
     "data": {
      "text/latex": [
       "\\[\n",
       "\\begin{aligned}\n",
       "x &= 3 \\; \n",
       "\\\\[10pt]\n",
       "M_{x} &= R_{A} \\cdot x - q \\cdot \\frac{ \\left( x - a \\right) ^{ 2 } }{ 2 }  = 10468.75 \\cdot 3 - 5000 \\cdot \\frac{ \\left( 3 - 2 \\right) ^{ 2 } }{ 2 } &= 28906.25  \n",
       "\\end{aligned}\n",
       "\\]"
      ],
      "text/plain": [
       "<IPython.core.display.Latex object>"
      ]
     },
     "metadata": {},
     "output_type": "display_data"
    }
   ],
   "source": [
    "%%render 2\n",
    "x = 3\n",
    "M_x = R_A*x - q*(x-a)**2/2\n",
    " "
   ]
  },
  {
   "cell_type": "markdown",
   "id": "cbf24e50-7855-4670-9b45-cf1274015f7b",
   "metadata": {},
   "source": [
    "### Izračun za poljem obremenitve"
   ]
  },
  {
   "cell_type": "code",
   "execution_count": 70,
   "id": "9c3d0ab2-8448-4ffd-9ea4-6c830b4e6516",
   "metadata": {},
   "outputs": [
    {
     "data": {
      "text/latex": [
       "\\[\n",
       "\\begin{aligned}\n",
       "x &= 6 \\; \n",
       "\\\\[10pt]\n",
       "M_{x} &= R_{A} \\cdot x - q \\cdot \\left( b - a \\right) \\cdot \\left( x - \\frac{ b + a }{ 2 } \\right) \\\\&= 10468.75 \\cdot 6 - 5000 \\cdot \\left( 4.50 - 2 \\right) \\cdot \\left( 6 - \\frac{ 4.50 + 2 }{ 2 } \\right) \\\\&= 28437.50  \\\\[10pt]\n",
       "\\end{aligned}\n",
       "\\]"
      ],
      "text/plain": [
       "<IPython.core.display.Latex object>"
      ]
     },
     "metadata": {},
     "output_type": "display_data"
    }
   ],
   "source": [
    "%%render 2 long\n",
    "x = 6\n",
    "M_x = R_A*x - q*(b-a)*(x-(b+a)/2)"
   ]
  },
  {
   "cell_type": "markdown",
   "id": "79127722-1b45-421a-b84c-cbeffd46f468",
   "metadata": {},
   "source": [
    "# Primer uporabe tabel"
   ]
  },
  {
   "cell_type": "markdown",
   "id": "d5f9af3a-2979-4097-897e-bed2258c9bbd",
   "metadata": {},
   "source": [
    "V geodetskem postopku smo izmerili želeno dolžino. Meritev smo opravili 10 krat. Podatki meritev so shranjeni v besedilni datoteki meritve.txt. \n",
    "\n",
    "Izračunali smo aritmetično sredino meritev, standardni odklon ter standardni odklon aritmetične sredine."
   ]
  },
  {
   "cell_type": "code",
   "execution_count": 116,
   "id": "bd0db88e-c808-40a1-894d-3a41b4702a5d",
   "metadata": {},
   "outputs": [],
   "source": [
    "from tabulate import tabulate"
   ]
  },
  {
   "cell_type": "code",
   "execution_count": 142,
   "id": "0d19f87e-8649-402e-a550-d6dbace5f60d",
   "metadata": {},
   "outputs": [
    {
     "name": "stdout",
     "output_type": "stream",
     "text": [
      "┌───────────┬───────────┬──────────┬───────────┐\n",
      "│   zap.št. │   meritev │   odklon │   kvadrat │\n",
      "├───────────┼───────────┼──────────┼───────────┤\n",
      "│         1 │   120.456 │    0.013 │     0.000 │\n",
      "│         1 │   120.460 │    0.017 │     0.000 │\n",
      "│         1 │   120.463 │    0.020 │     0.000 │\n",
      "│         1 │   120.448 │    0.005 │     0.000 │\n",
      "│         1 │   120.450 │    0.007 │     0.000 │\n",
      "│         1 │   120.465 │    0.022 │     0.001 │\n",
      "│         1 │   120.449 │    0.006 │     0.000 │\n",
      "│         1 │   120.455 │    0.012 │     0.000 │\n",
      "│         1 │   120.399 │   -0.044 │     0.002 │\n",
      "│         1 │   120.380 │   -0.063 │     0.004 │\n",
      "└───────────┴───────────┴──────────┴───────────┘\n"
     ]
    }
   ],
   "source": [
    "with open('meritve.txt') as f:\n",
    "    meritve = []\n",
    "    for m in f:\n",
    "        m = m.strip()\n",
    "        m = m.replace(',', '.')\n",
    "        m = float(m)\n",
    "        meritve.append(m)\n",
    "\n",
    "vsota = sum(meritve)\n",
    "stevilo_meritev = len(meritve)\n",
    "povprecje = vsota/stevilo_meritev\n",
    "\n",
    "tabela = []\n",
    "i = 1\n",
    "vsota_kvadratov = 0\n",
    "for m in meritve:\n",
    "    vrstica = []\n",
    "    vrstica.append(i)\n",
    "    vrstica.append(m)\n",
    "\n",
    "    odklon = m - povprecje\n",
    "    vrstica.append(odklon)\n",
    "    \n",
    "    kvadrat = odklon**2\n",
    "    vsota_kvadratov += kvadrat\n",
    "    vrstica.append(kvadrat)\n",
    "    \n",
    "    tabela.append(vrstica)    \n",
    "\n",
    "t = tabulate(tabela, headers=['zap.št.', 'meritev', 'odklon', 'kvadrat'], floatfmt=('.0f', '.3f', '.3f', '.3f'), tablefmt='simple_outline')\n",
    "\n",
    "print(t)"
   ]
  },
  {
   "cell_type": "code",
   "execution_count": 144,
   "id": "9865ea28-f225-4e3e-a42f-c0a1c09bed09",
   "metadata": {},
   "outputs": [],
   "source": [
    "standardni_odklon = (vsota_kvadratov/(stevilo_meritev-1))**(1/2)\n",
    "SEM = standardni_odklon / stevilo_meritev**(1/2)"
   ]
  },
  {
   "cell_type": "code",
   "execution_count": 148,
   "id": "039d2710-d25e-4a4c-9d43-7371705719a0",
   "metadata": {},
   "outputs": [
    {
     "data": {
      "text/latex": [
       "\\[\n",
       "\\begin{aligned}\n",
       "m &= 120.443 \\; \n",
       " &\\sigma &= 0.029 \\; \n",
       " &\\sigma_{M} &= 0.009 \\; \n",
       "\\\\[10pt]\n",
       "\\end{aligned}\n",
       "\\]"
      ],
      "text/plain": [
       "<IPython.core.display.Latex object>"
      ]
     },
     "metadata": {},
     "output_type": "display_data"
    }
   ],
   "source": [
    "%%render params\n",
    "m = povprecje\n",
    "sigma = standardni_odklon\n",
    "sigma_M = SEM"
   ]
  }
 ],
 "metadata": {
  "kernelspec": {
   "display_name": "Python 3 (ipykernel)",
   "language": "python",
   "name": "python3"
  },
  "language_info": {
   "codemirror_mode": {
    "name": "ipython",
    "version": 3
   },
   "file_extension": ".py",
   "mimetype": "text/x-python",
   "name": "python",
   "nbconvert_exporter": "python",
   "pygments_lexer": "ipython3",
   "version": "3.9.20"
  }
 },
 "nbformat": 4,
 "nbformat_minor": 5
}
