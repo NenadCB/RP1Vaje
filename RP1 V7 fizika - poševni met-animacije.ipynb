{
 "cells": [
  {
   "cell_type": "markdown",
   "id": "179a90cc",
   "metadata": {},
   "source": [
    "rešitev domače naloge 'ptice' in zanka while"
   ]
  },
  {
   "cell_type": "markdown",
   "id": "d6fad10d",
   "metadata": {},
   "source": [
    "poševni met\n",
    "\n",
    "$t$ - čas od začetka meta\n",
    "\n",
    "$v_0$ - začetna hitrost, izberemo med 0 in 40 m/s\n",
    "\n",
    "$\\varphi$ - kot izberemo v razponu med 1 in 90 stopinj\n",
    "\n",
    "$g = 9.8 m/s^2$ - gravitacijski pospešek\n",
    "\n",
    "$v_x = v_0 \\cdot \\cos\\varphi$ - hitrost v vodoravni smeri \n",
    "\n",
    "$v_y = v_0 \\cdot \\sin\\varphi - g\\cdot t$ - hitrost v navpični smeri \n",
    "\n",
    "$x = v_x \\cdot t$ - vodoravni premik v času $t$\n",
    "\n",
    "$y = v_y \\cdot t - \\dfrac{g \\cdot t^2}{2}$ - navpični premik v času $t$\n",
    "\n",
    "$h = \\dfrac{v_0^2\\cdot\\sin^2\\varphi}{2 g} $ - največja višina\n",
    "\n",
    "$D = \\dfrac{v_0^2\\cdot\\sin2\\varphi}{g}$ - maksimalna razdalja v vodoravni smeri\n",
    "\n",
    "$t_{skupni} = 2 \\cdot \\dfrac{v_0 \\cdot \\sin\\varphi}{g}$ - čas leta"
   ]
  },
  {
   "cell_type": "code",
   "execution_count": 3,
   "id": "8bfbeaca-88ff-4ebb-a020-55d1e537b350",
   "metadata": {},
   "outputs": [],
   "source": [
    "# %matplotlib notebook\n",
    "\n",
    "import matplotlib.pyplot as plt\n",
    "import matplotlib.animation as animation\n",
    "\n",
    "def update(num, x, y, line):\n",
    "    line.set_data(x[:num], y[:num])\n",
    "    return line,\n",
    "\n",
    "def animiraj(x, y, cilj):\n",
    "    fig, ax = plt.subplots(figsize = (8,4))\n",
    "\n",
    "    max_x = max(x)\n",
    "    if max_x < cilj:\n",
    "        max_x = cilj\n",
    "    ax.set_xlim(0, max_x*1.2)\n",
    "    ax.set_ylim(0, max_x*0.6)\n",
    "    ax.scatter(cilj, 0, c='orange', s=[60])\n",
    "    line, = ax.plot(x, y)\n",
    "\n",
    "    return animation.FuncAnimation(fig, update, len(x), interval=30, \n",
    "                                   fargs=[x, y, line], blit=True, repeat=False)\n",
    "\n"
   ]
  },
  {
   "cell_type": "markdown",
   "id": "906cd7aa",
   "metadata": {},
   "source": [
    "#### analitična rešitev"
   ]
  },
  {
   "cell_type": "code",
   "execution_count": 33,
   "id": "36cd7673",
   "metadata": {},
   "outputs": [
    {
     "name": "stdout",
     "output_type": "stream",
     "text": [
      "čas leta: 7.58s\n",
      "domet: 253.70m\n",
      "največja višina: 70.44m\n"
     ]
    },
    {
     "data": {
      "text/html": [
       "<table>\n",
       "<thead>\n",
       "<tr><th style=\"text-align: right;\">  t</th><th style=\"text-align: right;\">     h</th></tr>\n",
       "</thead>\n",
       "<tbody>\n",
       "<tr><td style=\"text-align: right;\">0.0</td><td style=\"text-align: right;\"> 0.000</td></tr>\n",
       "<tr><td style=\"text-align: right;\">0.1</td><td style=\"text-align: right;\"> 3.667</td></tr>\n",
       "<tr><td style=\"text-align: right;\">0.2</td><td style=\"text-align: right;\"> 7.235</td></tr>\n",
       "<tr><td style=\"text-align: right;\">0.3</td><td style=\"text-align: right;\">10.706</td></tr>\n",
       "<tr><td style=\"text-align: right;\">0.4</td><td style=\"text-align: right;\">14.079</td></tr>\n",
       "<tr><td style=\"text-align: right;\">0.5</td><td style=\"text-align: right;\">17.354</td></tr>\n",
       "<tr><td style=\"text-align: right;\">0.6</td><td style=\"text-align: right;\">20.530</td></tr>\n",
       "<tr><td style=\"text-align: right;\">0.7</td><td style=\"text-align: right;\">23.609</td></tr>\n",
       "<tr><td style=\"text-align: right;\">0.8</td><td style=\"text-align: right;\">26.590</td></tr>\n",
       "<tr><td style=\"text-align: right;\">0.9</td><td style=\"text-align: right;\">29.473</td></tr>\n",
       "<tr><td style=\"text-align: right;\">1.0</td><td style=\"text-align: right;\">32.257</td></tr>\n",
       "<tr><td style=\"text-align: right;\">1.1</td><td style=\"text-align: right;\">34.944</td></tr>\n",
       "<tr><td style=\"text-align: right;\">1.2</td><td style=\"text-align: right;\">37.533</td></tr>\n",
       "<tr><td style=\"text-align: right;\">1.3</td><td style=\"text-align: right;\">40.023</td></tr>\n",
       "<tr><td style=\"text-align: right;\">1.4</td><td style=\"text-align: right;\">42.416</td></tr>\n",
       "<tr><td style=\"text-align: right;\">1.5</td><td style=\"text-align: right;\">44.711</td></tr>\n",
       "<tr><td style=\"text-align: right;\">1.6</td><td style=\"text-align: right;\">46.908</td></tr>\n",
       "<tr><td style=\"text-align: right;\">1.7</td><td style=\"text-align: right;\">49.006</td></tr>\n",
       "<tr><td style=\"text-align: right;\">1.8</td><td style=\"text-align: right;\">51.007</td></tr>\n",
       "<tr><td style=\"text-align: right;\">1.9</td><td style=\"text-align: right;\">52.910</td></tr>\n",
       "<tr><td style=\"text-align: right;\">2.0</td><td style=\"text-align: right;\">54.714</td></tr>\n",
       "<tr><td style=\"text-align: right;\">2.1</td><td style=\"text-align: right;\">56.421</td></tr>\n",
       "<tr><td style=\"text-align: right;\">2.2</td><td style=\"text-align: right;\">58.030</td></tr>\n",
       "<tr><td style=\"text-align: right;\">2.3</td><td style=\"text-align: right;\">59.541</td></tr>\n",
       "<tr><td style=\"text-align: right;\">2.4</td><td style=\"text-align: right;\">60.953</td></tr>\n",
       "<tr><td style=\"text-align: right;\">2.5</td><td style=\"text-align: right;\">62.268</td></tr>\n",
       "<tr><td style=\"text-align: right;\">2.6</td><td style=\"text-align: right;\">63.485</td></tr>\n",
       "<tr><td style=\"text-align: right;\">2.7</td><td style=\"text-align: right;\">64.604</td></tr>\n",
       "<tr><td style=\"text-align: right;\">2.8</td><td style=\"text-align: right;\">65.624</td></tr>\n",
       "<tr><td style=\"text-align: right;\">2.9</td><td style=\"text-align: right;\">66.547</td></tr>\n",
       "<tr><td style=\"text-align: right;\">3.0</td><td style=\"text-align: right;\">67.372</td></tr>\n",
       "<tr><td style=\"text-align: right;\">3.1</td><td style=\"text-align: right;\">68.098</td></tr>\n",
       "<tr><td style=\"text-align: right;\">3.2</td><td style=\"text-align: right;\">68.727</td></tr>\n",
       "<tr><td style=\"text-align: right;\">3.3</td><td style=\"text-align: right;\">69.258</td></tr>\n",
       "<tr><td style=\"text-align: right;\">3.4</td><td style=\"text-align: right;\">69.691</td></tr>\n",
       "<tr><td style=\"text-align: right;\">3.5</td><td style=\"text-align: right;\">70.025</td></tr>\n",
       "<tr><td style=\"text-align: right;\">3.6</td><td style=\"text-align: right;\">70.262</td></tr>\n",
       "<tr><td style=\"text-align: right;\">3.7</td><td style=\"text-align: right;\">70.401</td></tr>\n",
       "<tr><td style=\"text-align: right;\">3.8</td><td style=\"text-align: right;\">70.442</td></tr>\n",
       "<tr><td style=\"text-align: right;\">3.9</td><td style=\"text-align: right;\">70.384</td></tr>\n",
       "<tr><td style=\"text-align: right;\">4.0</td><td style=\"text-align: right;\">70.229</td></tr>\n",
       "<tr><td style=\"text-align: right;\">4.1</td><td style=\"text-align: right;\">69.976</td></tr>\n",
       "<tr><td style=\"text-align: right;\">4.2</td><td style=\"text-align: right;\">69.624</td></tr>\n",
       "<tr><td style=\"text-align: right;\">4.3</td><td style=\"text-align: right;\">69.175</td></tr>\n",
       "<tr><td style=\"text-align: right;\">4.4</td><td style=\"text-align: right;\">68.628</td></tr>\n",
       "<tr><td style=\"text-align: right;\">4.5</td><td style=\"text-align: right;\">67.983</td></tr>\n",
       "<tr><td style=\"text-align: right;\">4.6</td><td style=\"text-align: right;\">67.239</td></tr>\n",
       "<tr><td style=\"text-align: right;\">4.7</td><td style=\"text-align: right;\">66.398</td></tr>\n",
       "<tr><td style=\"text-align: right;\">4.8</td><td style=\"text-align: right;\">65.459</td></tr>\n",
       "<tr><td style=\"text-align: right;\">4.9</td><td style=\"text-align: right;\">64.421</td></tr>\n",
       "<tr><td style=\"text-align: right;\">5.0</td><td style=\"text-align: right;\">63.286</td></tr>\n",
       "<tr><td style=\"text-align: right;\">5.1</td><td style=\"text-align: right;\">62.053</td></tr>\n",
       "<tr><td style=\"text-align: right;\">5.2</td><td style=\"text-align: right;\">60.722</td></tr>\n",
       "<tr><td style=\"text-align: right;\">5.3</td><td style=\"text-align: right;\">59.292</td></tr>\n",
       "<tr><td style=\"text-align: right;\">5.4</td><td style=\"text-align: right;\">57.765</td></tr>\n",
       "<tr><td style=\"text-align: right;\">5.5</td><td style=\"text-align: right;\">56.140</td></tr>\n",
       "<tr><td style=\"text-align: right;\">5.6</td><td style=\"text-align: right;\">54.417</td></tr>\n",
       "<tr><td style=\"text-align: right;\">5.7</td><td style=\"text-align: right;\">52.595</td></tr>\n",
       "<tr><td style=\"text-align: right;\">5.8</td><td style=\"text-align: right;\">50.676</td></tr>\n",
       "<tr><td style=\"text-align: right;\">5.9</td><td style=\"text-align: right;\">48.659</td></tr>\n",
       "<tr><td style=\"text-align: right;\">6.0</td><td style=\"text-align: right;\">46.543</td></tr>\n",
       "<tr><td style=\"text-align: right;\">6.1</td><td style=\"text-align: right;\">44.330</td></tr>\n",
       "<tr><td style=\"text-align: right;\">6.2</td><td style=\"text-align: right;\">42.019</td></tr>\n",
       "<tr><td style=\"text-align: right;\">6.3</td><td style=\"text-align: right;\">39.610</td></tr>\n",
       "<tr><td style=\"text-align: right;\">6.4</td><td style=\"text-align: right;\">37.102</td></tr>\n",
       "<tr><td style=\"text-align: right;\">6.5</td><td style=\"text-align: right;\">34.497</td></tr>\n",
       "<tr><td style=\"text-align: right;\">6.6</td><td style=\"text-align: right;\">31.794</td></tr>\n",
       "<tr><td style=\"text-align: right;\">6.7</td><td style=\"text-align: right;\">28.993</td></tr>\n",
       "<tr><td style=\"text-align: right;\">6.8</td><td style=\"text-align: right;\">26.093</td></tr>\n",
       "<tr><td style=\"text-align: right;\">6.9</td><td style=\"text-align: right;\">23.096</td></tr>\n",
       "<tr><td style=\"text-align: right;\">7.0</td><td style=\"text-align: right;\">20.001</td></tr>\n",
       "<tr><td style=\"text-align: right;\">7.1</td><td style=\"text-align: right;\">16.807</td></tr>\n",
       "<tr><td style=\"text-align: right;\">7.2</td><td style=\"text-align: right;\">13.516</td></tr>\n",
       "<tr><td style=\"text-align: right;\">7.3</td><td style=\"text-align: right;\">10.127</td></tr>\n",
       "<tr><td style=\"text-align: right;\">7.4</td><td style=\"text-align: right;\"> 6.640</td></tr>\n",
       "<tr><td style=\"text-align: right;\">7.5</td><td style=\"text-align: right;\"> 3.054</td></tr>\n",
       "<tr><td style=\"text-align: right;\">7.6</td><td style=\"text-align: right;\">-0.629</td></tr>\n",
       "</tbody>\n",
       "</table>"
      ],
      "text/plain": [
       "<IPython.core.display.HTML object>"
      ]
     },
     "metadata": {},
     "output_type": "display_data"
    }
   ],
   "source": [
    "from math import sin, cos, radians\n",
    "import tabulate\n",
    "from IPython.display import HTML, display\n",
    "\n",
    "v_0 = 50  # m/s\n",
    "phi = radians(48)   # stopinj\n",
    "\n",
    "g = 9.8  # m/s**2\n",
    "g_sonce = 274.3\n",
    "\n",
    "cilj = 250 # m\n",
    "\n",
    "sez_x = []\n",
    "sez_y = [] \n",
    "yy = []\n",
    "\n",
    "for i in range(100):\n",
    "    t = i / 10  # računamo s korakom na desetinko sekunde\n",
    "    x = v_0 * cos(phi) * t\n",
    "    y = v_0 * sin(phi) * t - (g * t**2) / 2\n",
    "    sez_x.append(x)\n",
    "    sez_y.append(y)\n",
    "    yy.append([t, y])\n",
    "    if y < 0:   #ne mečemo v luknjo\n",
    "        break\n",
    "    \n",
    "#ani = animiraj(sez_x, sez_y, cilj)\n",
    "\n",
    "        \n",
    "print(f'čas leta: {2 * v_0 * sin(phi) / g:.2f}s')\n",
    "print(f'domet: {v_0**2 * sin(2*phi)/g:.2f}m')\n",
    "print(f'največja višina: {v_0**2 * sin(phi)**2/(2*g):.2f}m')\n",
    "\n",
    "#print(tabulate.tabulate([[el] for el in sez_y]))\n",
    "#print(tabulate.tabulate(yy, tablefmt=\"html\"))\n",
    "display(HTML(tabulate.tabulate(yy, tablefmt=\"html\", headers=['t','h'], floatfmt=('.1f', '.3f'))))"
   ]
  },
  {
   "cell_type": "markdown",
   "id": "f3595905",
   "metadata": {},
   "source": [
    "#### numerična rešitev"
   ]
  },
  {
   "cell_type": "code",
   "execution_count": 63,
   "id": "61f3e74e",
   "metadata": {},
   "outputs": [],
   "source": [
    "v_0 = 50  # m/s\n",
    "phi = radians(48)   # stopinj\n",
    "\n",
    "g = 9.8  # m/s**2\n",
    "g_sonce = 274.3\n",
    "\n",
    "cilj = 250 # m\n",
    "\n",
    "#začetna pozicija\n",
    "x = 0\n",
    "y = 0\n",
    "\n",
    "#vodoravna in navpična komponenta hitrosti\n",
    "v_x = v_0 * cos(phi)\n",
    "v_y = v_0 * sin(phi)\n",
    "\n",
    "delta_t = 0.1  # računamo s korakom na desetinko sekunde (napaka velika, probaj še 0.01)\n",
    "\n",
    "sez_x_num = [x]\n",
    "sez_y_num = [y] \n",
    "\n",
    "for i in range(1000):\n",
    "    \n",
    "    #izračunamo premik pozicije vodoravno in navpično\n",
    "    delta_x = v_x  * delta_t\n",
    "    delta_y = v_y  * delta_t\n",
    "        \n",
    "    #izračunamo novo pozicijo izstrelka\n",
    "    x += delta_x\n",
    "    y += delta_y\n",
    "    \n",
    "    #izračunamo obe komponenti hitrosti v novi poziciji\n",
    "    # v_x se ne spreminja skozi čas\n",
    "    v_y = v_y - g * delta_t\n",
    "    \n",
    "    #shranimo pozicijo\n",
    "    sez_x_num.append(x)\n",
    "    sez_y_num.append(y)\n",
    "\n",
    "    if y < -1:  #ne mečemo v luknjo\n",
    "        break\n",
    "    \n",
    "#ani = animiraj(sez_x_num, sez_y_num, cilj)\n"
   ]
  },
  {
   "cell_type": "markdown",
   "id": "51be6cc0",
   "metadata": {},
   "source": [
    "#### dodaj zračni upor"
   ]
  },
  {
   "cell_type": "code",
   "execution_count": 47,
   "id": "44e55ad6",
   "metadata": {},
   "outputs": [],
   "source": [
    "from math import sin, cos, sqrt, atan\n",
    "\n",
    "v_0 = 50  # m/s\n",
    "phi = radians(48)   # stopinj\n",
    "\n",
    "g = 9.8  # m/s**2\n",
    "g_sonce = 274.3\n",
    "\n",
    "cilj = 250 # m\n",
    "\n",
    "#začetna pozicija\n",
    "x = 0\n",
    "y = 0\n",
    "\n",
    "#vodoravna in navpična komponenta hitrosti\n",
    "v_x = v_0 * cos(phi)\n",
    "v_y = v_0 * sin(phi)\n",
    "\n",
    "k = 0.005 #konstanta, ki določa upor telesa (odvisna od velikosti in oblike telesa)\n",
    "\n",
    "delta_t = 0.01  # računamo s korakom na desetinko sekunde\n",
    "\n",
    "sez_x_zrak = [x]\n",
    "sez_y_zrak = [y] \n",
    "\n",
    "for i in range(1000):\n",
    "    \n",
    "    #izračunamo premik pozicije vodoravno in navpično\n",
    "    delta_x = v_x  * delta_t\n",
    "    delta_y = v_y  * delta_t\n",
    "        \n",
    "    #izračunamo novo pozicijo izstrelka\n",
    "    x += delta_x\n",
    "    y += delta_y\n",
    "    \n",
    "    #izračunamo pospešek/pojemek v vodoravni in navpični smeri\n",
    "    v = sqrt(v_x**2+v_y**2)\n",
    "    phi = atan(v_y/v_x)\n",
    "    a_x = k * v**2 * cos(phi)\n",
    "    a_y = k * v**2 * sin(phi) + g\n",
    "    \n",
    "    #izračunamo obe komponenti hitrosti v novi poziciji\n",
    "    v_x = v_x - a_x * delta_t\n",
    "    v_y = v_y - a_y * delta_t\n",
    "    \n",
    "    #shranimo pozicijo\n",
    "    sez_x_zrak.append(x)\n",
    "    sez_y_zrak.append(y)\n",
    "\n",
    "    if y < -1:    #ne mečemo v luknjo\n",
    "        break"
   ]
  },
  {
   "cell_type": "code",
   "execution_count": 65,
   "id": "2cc3d4a9",
   "metadata": {},
   "outputs": [
    {
     "data": {
      "text/plain": [
       "<matplotlib.legend.Legend at 0x1d05c5e67c0>"
      ]
     },
     "execution_count": 65,
     "metadata": {},
     "output_type": "execute_result"
    },
    {
     "data": {
      "image/png": "[encoded data removed]",
      "text/plain": [
       "<Figure size 640x480 with 1 Axes>"
      ]
     },
     "metadata": {},
     "output_type": "display_data"
    }
   ],
   "source": [
    "#import matplotlib.pyplot as plt  \n",
    "plt.plot(sez_x, sez_y, label='analitično')\n",
    "plt.plot(sez_x_num, sez_y_num, label='numerično')\n",
    "plt.plot(sez_x_zrak, sez_y_zrak, label='zrak (k=0.005)')\n",
    "plt.legend()"
   ]
  },
  {
   "cell_type": "code",
   "execution_count": null,
   "id": "7e251cdc-a565-4bb6-8fbc-f9602120568e",
   "metadata": {},
   "outputs": [],
   "source": []
  },
  {
   "cell_type": "markdown",
   "id": "f5a8eb0c",
   "metadata": {},
   "source": [
    "domača naloga, naredite primerjavo obeh rešitev (povprečni pogrešek...)\n",
    "\n",
    "domača naloga epidemija, naslednjič razlaga"
   ]
  }
 ],
 "metadata": {
  "kernelspec": {
   "display_name": "Python 3 (ipykernel)",
   "language": "python",
   "name": "python3"
  },
  "language_info": {
   "codemirror_mode": {
    "name": "ipython",
    "version": 3
   },
   "file_extension": ".py",
   "mimetype": "text/x-python",
   "name": "python",
   "nbconvert_exporter": "python",
   "pygments_lexer": "ipython3",
   "version": "3.9.20"
  }
 },
 "nbformat": 4,
 "nbformat_minor": 5
}
