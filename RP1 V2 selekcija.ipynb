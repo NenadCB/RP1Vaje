{
 "cells": [
  {
   "cell_type": "markdown",
   "id": "f3a8661b",
   "metadata": {},
   "source": [
    "# Selekcija"
   ]
  },
  {
   "cell_type": "markdown",
   "id": "96c1153a",
   "metadata": {},
   "source": [
    "rešitve DN 1:"
   ]
  },
  {
   "cell_type": "code",
   "execution_count": 1,
   "id": "aef75a4b",
   "metadata": {},
   "outputs": [
    {
     "name": "stdout",
     "output_type": "stream",
     "text": [
      "spoooooky\n",
      "galaxy far, far, far away\n",
      "42\n"
     ]
    }
   ],
   "source": [
    "#primer spooky\n",
    "n = 5\n",
    "print('sp' + 'o'*n + 'ky')\n",
    "\n",
    "#primer far, far away\n",
    "n = 3\n",
    "print('galaxy ' + 'far, '*(n-1) + 'far away')\n",
    "\n",
    "#primer pokemoni\n",
    "p = 14\n",
    "b = 3\n",
    "d = 10\n",
    "\n",
    "badges = p // b\n",
    "money = badges * d\n",
    "money = money + p % b\n",
    "print(str(money))"
   ]
  },
  {
   "cell_type": "markdown",
   "id": "25ca0ab6",
   "metadata": {},
   "source": [
    "#### primer MDOJ ccc15j1\n",
    "(18.2. je poseben datum)\n",
    "\n",
    "primer zaporednega preverjanja pogojev,\n",
    "ni vseeno v kakšnem vrstnem redu pišemo elif"
   ]
  },
  {
   "cell_type": "code",
   "execution_count": 2,
   "id": "07a460af",
   "metadata": {},
   "outputs": [
    {
     "name": "stdout",
     "output_type": "stream",
     "text": [
      "mesec3\n",
      "dan3\n",
      "After\n"
     ]
    }
   ],
   "source": [
    "A=int(input(\"mesec\"))\n",
    "B=int(input(\"dan\"))\n",
    "if A > 2:\n",
    "    print(\"After\")\n",
    "elif A < 2:\n",
    "    print(\"Before\")\n",
    "elif B < 18:\n",
    "    print('Before')\n",
    "elif B > 18:\n",
    "    print('After')\n",
    "else:\n",
    "    print(\"Special\")"
   ]
  },
  {
   "cell_type": "markdown",
   "id": "b999b329",
   "metadata": {},
   "source": [
    "#### primer ccc07j1 \n",
    "(najdi srednje število)"
   ]
  },
  {
   "cell_type": "code",
   "execution_count": 3,
   "id": "9828f477",
   "metadata": {},
   "outputs": [
    {
     "name": "stdout",
     "output_type": "stream",
     "text": [
      "A:4\n",
      "B:3\n",
      "C:4\n",
      "5 7 9\n",
      "7\n"
     ]
    }
   ],
   "source": [
    "#primer ccc07j1 (najdi srednje število)\n",
    "A = int(input('A:'))\n",
    "B = int(input('B:'))\n",
    "C = int(input('C:'))\n",
    "\n",
    "a = 5\n",
    "b = 9\n",
    "c = 7\n",
    "\n",
    "if a < b:\n",
    "    if b < c:\n",
    "        print(a, b, c)\n",
    "    elif a < c:\n",
    "        print(a, c, b)\n",
    "    else:\n",
    "        print(c, a, b)\n",
    "else:\n",
    "    if a < c:\n",
    "        print(b, a, c)\n",
    "    elif b < c:\n",
    "        print(b, c, a)\n",
    "    else:\n",
    "        print(c, b, a)\n",
    "\n",
    "# alternativa kot zanimivost za zadaj\n",
    "niz = [a,b,c]\n",
    "niz = sorted(niz)\n",
    "print(niz[1])\n"
   ]
  },
  {
   "cell_type": "markdown",
   "id": "f4a4a3fc",
   "metadata": {},
   "source": [
    "#### primer ccc15j2  \n",
    "(happy, sad emoticons), če ni časa gre ta naloga v DN"
   ]
  },
  {
   "cell_type": "code",
   "execution_count": null,
   "id": "2595eacb",
   "metadata": {},
   "outputs": [],
   "source": [
    "#(delo s string metodami)\n",
    "#(dovolj je primerjati samo s ali h z 0, ker sta gotovo enaka)\n",
    "\n",
    "A = 'danes :-) je lep :-( dan :-( :-)'\n",
    "\n",
    "h = A.count(':-)')\n",
    "s = A.count(':-(')\n",
    "\n",
    "if h > s:\n",
    "    print('happy')\n",
    "elif s > h:\n",
    "    print('sad')\n",
    "else:\n",
    "    if h == 0:\n",
    "        print('none')\n",
    "    else:\n",
    "        print('unsure')\n",
    "\n"
   ]
  },
  {
   "cell_type": "markdown",
   "id": "92ff41e7",
   "metadata": {},
   "source": [
    "domača naloga: dmopc16c1p0 (C.C. and Cheese-kun)"
   ]
  }
 ],
 "metadata": {
  "kernelspec": {
   "display_name": "Python 3 (ipykernel)",
   "language": "python",
   "name": "python3"
  },
  "language_info": {
   "codemirror_mode": {
    "name": "ipython",
    "version": 3
   },
   "file_extension": ".py",
   "mimetype": "text/x-python",
   "name": "python",
   "nbconvert_exporter": "python",
   "pygments_lexer": "ipython3",
   "version": "3.9.20"
  }
 },
 "nbformat": 4,
 "nbformat_minor": 5
}
