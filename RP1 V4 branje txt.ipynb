{
 "cells": [
  {
   "cell_type": "code",
   "execution_count": null,
   "id": "a472ffc7-0150-4fdd-ad6b-22faf4ba7a22",
   "metadata": {},
   "outputs": [],
   "source": [
    "import random as rnd\n",
    "\n",
    "while True:\n",
    "    faktorA = rnd.randint(1, 10)\n",
    "    faktorB = rnd.randint(1, 10)\n",
    "    praviRezultat = faktorA * faktorB\n",
    "\n",
    "    izhod = False\n",
    "    steviloNapak = 0\n",
    "    while steviloNapak < 3:\n",
    "        mojOdgovor = input(f' {faktorA} * {faktorB} = ')\n",
    "        if mojOdgovor.upper() == 'Q' or len(mojOdgovor) == 0:\n",
    "            izhod = True\n",
    "            break\n",
    "        elif int(mojOdgovor) == praviRezultat:\n",
    "            print('ODLIČNO! Le tako naprej.')\n",
    "            break\n",
    "        else:\n",
    "            if steviloNapak == 2: \n",
    "                print(f'pravilen rezultat je {praviRezultat} ')\n",
    "            else:\n",
    "                print('poskusi znova')\n",
    "            steviloNapak += 1\n",
    "    if izhod:\n",
    "        break \n"
   ]
  },
  {
   "cell_type": "code",
   "execution_count": null,
   "id": "e1446141",
   "metadata": {},
   "outputs": [],
   "source": [
    "# split, join, upper, lower, strip, seznam stolpcev v csv\n",
    "# vrstica po črkah"
   ]
  },
  {
   "cell_type": "code",
   "execution_count": 7,
   "id": "344e833e",
   "metadata": {},
   "outputs": [],
   "source": [
    "with open('mnozenje.py', encoding='UTF_8') as vhodna, open('mnozenje1.py', 'w', encoding='UTF_8') as izhodna:\n",
    "    for vr in vhodna:\n",
    "        c_prej = 'A'\n",
    "        for c in vr:\n",
    "            if c.isupper() and c_prej.islower():\n",
    "                b = '_' + c.lower()\n",
    "                izhodna.write(b)\n",
    "            else:\n",
    "                izhodna.write(c)\n",
    "            c_prej = c"
   ]
  }
 ],
 "metadata": {
  "kernelspec": {
   "display_name": "Python 3 (ipykernel)",
   "language": "python",
   "name": "python3"
  },
  "language_info": {
   "codemirror_mode": {
    "name": "ipython",
    "version": 3
   },
   "file_extension": ".py",
   "mimetype": "text/x-python",
   "name": "python",
   "nbconvert_exporter": "python",
   "pygments_lexer": "ipython3",
   "version": "3.9.20"
  }
 },
 "nbformat": 4,
 "nbformat_minor": 5
}
