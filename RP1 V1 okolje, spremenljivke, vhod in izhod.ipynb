{
 "cells": [
  {
   "cell_type": "markdown",
   "id": "e53b9c6c",
   "metadata": {},
   "source": [
    "# Zagon python, interpreter (primeri), podatkovni tipi in funkcije\n",
    "## vaja 1\n",
    "\n",
    "\n",
    "#### učni cilji \n",
    "- spoznavanje učnega okolja\n",
    "- delo z osnovnimi podatkovnimi strukturami in funkcijami\n",
    "- spremenljivka in podatkovni tip: prirejanje vrednosti, operatorji\n",
    "- branje in izpisovanje podatkov: input, parametri iz prompta, print, fstring\n",
    "- string funkcije\n",
    "\n",
    "***************\n",
    "\n",
    "- powershell\n",
    "- interpreter s primeri\n",
    "- urejevalnik IDLE in zagon programa, datoteka.py\n",
    "- jupyter in IDLE, razlike\n",
    "- DMOJ.ca ccc13j1 (najstarejši otrok)\n",
    "\n",
    "****************\n",
    "- navodila za instalacijo (PATH!)\n",
    "- DMOJ.ca in domače naloge\n",
    "- Moodle in oddaja nalog za bonuse\n",
    "- Moodle in oddaja obveznih nalog in ocenjevanje (to samo omeniš)\n",
    "\n"
   ]
  },
  {
   "cell_type": "code",
   "execution_count": 12,
   "id": "91e41971",
   "metadata": {},
   "outputs": [
    {
     "ename": "TypeError",
     "evalue": "unsupported operand type(s) for +: 'int' and 'str'",
     "output_type": "error",
     "traceback": [
      "\u001b[1;31m---------------------------------------------------------------------------\u001b[0m",
      "\u001b[1;31mTypeError\u001b[0m                                 Traceback (most recent call last)",
      "\u001b[1;32m~\\AppData\\Local\\Temp\\ipykernel_30024\\1573088456.py\u001b[0m in \u001b[0;36m<module>\u001b[1;34m\u001b[0m\n\u001b[0;32m      6\u001b[0m \u001b[1;33m\u001b[0m\u001b[0m\n\u001b[0;32m      7\u001b[0m \u001b[1;31m#podatkovni tipi\u001b[0m\u001b[1;33m\u001b[0m\u001b[1;33m\u001b[0m\u001b[0m\n\u001b[1;32m----> 8\u001b[1;33m \u001b[0mc\u001b[0m \u001b[1;33m=\u001b[0m \u001b[0ma\u001b[0m \u001b[1;33m+\u001b[0m \u001b[0mb\u001b[0m\u001b[1;33m\u001b[0m\u001b[1;33m\u001b[0m\u001b[0m\n\u001b[0m\u001b[0;32m      9\u001b[0m \u001b[1;33m\u001b[0m\u001b[0m\n\u001b[0;32m     10\u001b[0m \u001b[1;31m#osnovni operatorji\u001b[0m\u001b[1;33m\u001b[0m\u001b[1;33m\u001b[0m\u001b[0m\n",
      "\u001b[1;31mTypeError\u001b[0m: unsupported operand type(s) for +: 'int' and 'str'"
     ]
    }
   ],
   "source": [
    "#prvi primeri v powershell in IDLE:\n",
    "\n",
    "#prireditveni stavek\n",
    "a = 4\n",
    "b = 'vvv'\n",
    "\n",
    "#podatkovni tipi\n",
    "c = a + b\n",
    "\n",
    "#osnovni operatorji\n",
    "# -7 // 5 , %, **, koren   \n",
    "\n",
    "#string operatorji\n",
    "# * , +\n",
    "\n",
    "#funkcije\n",
    "# int, float, len, input, print"
   ]
  },
  {
   "cell_type": "code",
   "execution_count": 13,
   "id": "8865dbea",
   "metadata": {},
   "outputs": [
    {
     "name": "stdout",
     "output_type": "stream",
     "text": [
      "300\n"
     ]
    }
   ],
   "source": [
    "#zaporedno izvajanje stavkov:\n",
    "a = 100\n",
    "b = a + 200\n",
    "a = 400\n",
    "print(b)\n"
   ]
  },
  {
   "cell_type": "code",
   "execution_count": 15,
   "id": "c4fbf1d5",
   "metadata": {},
   "outputs": [
    {
     "name": "stdout",
     "output_type": "stream",
     "text": [
      "r:3\n",
      "h:8\n",
      "volumen= 75.429\n"
     ]
    }
   ],
   "source": [
    "#izračunaj volumen stožca\n",
    "r = int(input('r:'))\n",
    "h = int(input('h:'))\n",
    "\n",
    "PI = 22/7\n",
    "\n",
    "v = (PI * r ** 2 * h) / 3\n",
    "\n",
    "print(f'volumen= {v:.3f}')"
   ]
  },
  {
   "cell_type": "markdown",
   "id": "f6959e2e",
   "metadata": {},
   "source": [
    "DMOJ.ca ccc13j1 "
   ]
  },
  {
   "cell_type": "code",
   "execution_count": 5,
   "id": "86203d0d",
   "metadata": {},
   "outputs": [
    {
     "name": "stdout",
     "output_type": "stream",
     "text": [
      "2\n",
      "2\n",
      "2\n"
     ]
    }
   ],
   "source": [
    "najmlajši = int(input())\n",
    "srednji = int(input())\n",
    "\n",
    "najstarejši = srednji + srednji - najmlajši \n",
    "\n",
    "print(najstarejši)"
   ]
  },
  {
   "cell_type": "markdown",
   "id": "51fab2a6",
   "metadata": {},
   "source": [
    "delo s stringi:\n",
    "- dolgi string (trojni narekovaj)\n",
    "- .upper, .count, .strip\n",
    "- indeksiranje\n",
    "- rezanje"
   ]
  },
  {
   "cell_type": "code",
   "execution_count": 2,
   "id": "182ded67",
   "metadata": {},
   "outputs": [
    {
     "name": "stdout",
     "output_type": "stream",
     "text": [
      "to je \n",
      "zelo dolgo \n",
      "besedilo,\n",
      "ki se razteza \n",
      "preko nekaj\n",
      "vrstic\n"
     ]
    }
   ],
   "source": [
    "a = '''to je \n",
    "zelo dolgo \n",
    "besedilo,\n",
    "ki se razteza \n",
    "preko nekaj\n",
    "vrstic'''\n",
    "\n",
    "a #pokaži dejansko vsebino, izpišejo se \\n\n",
    "print(a)  #nato dodaj še print\n"
   ]
  },
  {
   "cell_type": "markdown",
   "id": "14798a2f",
   "metadata": {},
   "source": [
    "print(kaj, end='', sep='')"
   ]
  },
  {
   "cell_type": "markdown",
   "id": "a408d6fb",
   "metadata": {},
   "source": [
    "domača naloga: namestite si Python in naloge wc16c1j1, wc15c2j1, wc18c3j1\n",
    "predstavi upload na moodle\n"
   ]
  }
 ],
 "metadata": {
  "kernelspec": {
   "display_name": "Python 3 (ipykernel)",
   "language": "python",
   "name": "python3"
  },
  "language_info": {
   "codemirror_mode": {
    "name": "ipython",
    "version": 3
   },
   "file_extension": ".py",
   "mimetype": "text/x-python",
   "name": "python",
   "nbconvert_exporter": "python",
   "pygments_lexer": "ipython3",
   "version": "3.9.16"
  }
 },
 "nbformat": 4,
 "nbformat_minor": 5
}
