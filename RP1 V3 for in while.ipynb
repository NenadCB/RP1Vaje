{
 "cells": [
  {
   "cell_type": "markdown",
   "id": "8b1f6bd1",
   "metadata": {},
   "source": [
    "## Zanke\n",
    "\n",
    "\n",
    "#### učni cilji: \n",
    "- uporaba funkcije range()\n",
    "- uporaba ponavljanja v programiranju\n",
    "- sestava preprostega algoritma s ponavljanjem\n"
   ]
  },
  {
   "cell_type": "markdown",
   "id": "33c2bb0b",
   "metadata": {},
   "source": [
    "### range()"
   ]
  },
  {
   "cell_type": "code",
   "execution_count": 4,
   "id": "6fdf99be",
   "metadata": {},
   "outputs": [
    {
     "data": {
      "text/plain": [
       "[0, 1, 2, 3, 4]"
      ]
     },
     "execution_count": 4,
     "metadata": {},
     "output_type": "execute_result"
    }
   ],
   "source": [
    "list(range(5))"
   ]
  },
  {
   "cell_type": "code",
   "execution_count": 5,
   "id": "c26f0898",
   "metadata": {},
   "outputs": [
    {
     "data": {
      "text/plain": [
       "[3, 4, 5]"
      ]
     },
     "execution_count": 5,
     "metadata": {},
     "output_type": "execute_result"
    }
   ],
   "source": [
    "list(range(3, 6))"
   ]
  },
  {
   "cell_type": "code",
   "execution_count": 6,
   "id": "2ddc1881",
   "metadata": {},
   "outputs": [
    {
     "data": {
      "text/plain": [
       "[1, 3, 5, 7, 9]"
      ]
     },
     "execution_count": 6,
     "metadata": {},
     "output_type": "execute_result"
    }
   ],
   "source": [
    "list(range(1, 11, 2))"
   ]
  },
  {
   "cell_type": "code",
   "execution_count": 7,
   "id": "aeb6524c",
   "metadata": {},
   "outputs": [
    {
     "data": {
      "text/plain": [
       "[10, 9, 8, 7, 6, 5, 4, 3, 2, 1]"
      ]
     },
     "execution_count": 7,
     "metadata": {},
     "output_type": "execute_result"
    }
   ],
   "source": [
    "list(range(10, 0, -1))"
   ]
  },
  {
   "cell_type": "code",
   "execution_count": 8,
   "id": "335ade76",
   "metadata": {},
   "outputs": [
    {
     "data": {
      "text/plain": [
       "[3, 2, 1, 0]"
      ]
     },
     "execution_count": 8,
     "metadata": {},
     "output_type": "execute_result"
    }
   ],
   "source": [
    "list(range(3, -1, -1))"
   ]
  },
  {
   "cell_type": "markdown",
   "id": "1ab2da09",
   "metadata": {},
   "source": [
    "### for"
   ]
  },
  {
   "cell_type": "markdown",
   "id": "b49cc9ca",
   "metadata": {},
   "source": [
    "Funkcijo `range()` lahko uporabimo za ustvarjanje števca zanke:\n"
   ]
  },
  {
   "cell_type": "code",
   "execution_count": 11,
   "id": "4fe60182",
   "metadata": {},
   "outputs": [
    {
     "name": "stdout",
     "output_type": "stream",
     "text": [
      "0\n",
      "1\n",
      "2\n",
      "3\n",
      "4\n"
     ]
    }
   ],
   "source": [
    "for i in range(5):\n",
    "  print(i)\n"
   ]
  },
  {
   "cell_type": "code",
   "execution_count": 12,
   "id": "affdad65",
   "metadata": {},
   "outputs": [
    {
     "name": "stdout",
     "output_type": "stream",
     "text": [
      "3\n",
      "5\n",
      "7\n"
     ]
    }
   ],
   "source": [
    "for i in range(3, 8, 2):\n",
    "  print(i)"
   ]
  },
  {
   "cell_type": "code",
   "execution_count": 26,
   "id": "28185e3e",
   "metadata": {},
   "outputs": [
    {
     "name": "stdout",
     "output_type": "stream",
     "text": [
      "domače naloge so pomembne"
     ]
    }
   ],
   "source": [
    "poved = 'domače naloge so pomembne'\n",
    "for c in poved:\n",
    "    print(c, end='')"
   ]
  },
  {
   "cell_type": "markdown",
   "id": "15368222",
   "metadata": {},
   "source": [
    "Vaja: MDOJ coci18c3p1 - \n",
    "    Magnus gre na tekmovanje v programiranju, koliko HONI blokov lahko najde v besedi, če ven jemlje odvečne črke\n"
   ]
  },
  {
   "cell_type": "code",
   "execution_count": 15,
   "id": "99495b0b",
   "metadata": {},
   "outputs": [
    {
     "data": {
      "text/plain": [
       "2"
      ]
     },
     "execution_count": 15,
     "metadata": {},
     "output_type": "execute_result"
    }
   ],
   "source": [
    "#primer če bi iskali samo eno črko \n",
    "a = 'PROHODNIHODNIK'\n",
    "b = 'H'\n",
    "\n",
    "a.count(b)  # najbolj preprosto\n"
   ]
  },
  {
   "cell_type": "code",
   "execution_count": 20,
   "id": "feb63aaa",
   "metadata": {},
   "outputs": [
    {
     "data": {
      "text/plain": [
       "2"
      ]
     },
     "execution_count": 20,
     "metadata": {},
     "output_type": "execute_result"
    }
   ],
   "source": [
    "#iskanje ene črke v zanki\n",
    "a = 'PROHODNIHODNIK'\n",
    "b = 'H'\n",
    "st = 0\n",
    "\n",
    "for c in a:\n",
    "   if c == b:\n",
    "      st += 1\n",
    "\n",
    "st"
   ]
  },
  {
   "cell_type": "markdown",
   "id": "1f7a68c8",
   "metadata": {},
   "source": [
    "Če iščemo daljše podnize, velja enako:"
   ]
  },
  {
   "cell_type": "code",
   "execution_count": 22,
   "id": "ba601abd",
   "metadata": {},
   "outputs": [
    {
     "data": {
      "text/plain": [
       "2"
      ]
     },
     "execution_count": 22,
     "metadata": {},
     "output_type": "execute_result"
    }
   ],
   "source": [
    "#za daljše b stringe\n",
    "a = 'PROHODNIHODNIK'\n",
    "b = 'HOD'\n",
    "st = a.count(b)\n",
    "\n",
    "st"
   ]
  },
  {
   "cell_type": "code",
   "execution_count": 24,
   "id": "ec3e3062",
   "metadata": {},
   "outputs": [
    {
     "name": "stdout",
     "output_type": "stream",
     "text": [
      "2\n"
     ]
    }
   ],
   "source": [
    "#rešitev vaje coci18c3p1:\n",
    "a = 'PROHODNIHODNIK'\n",
    "b = 'HONI'\n",
    "j = 0\n",
    "c = ''\n",
    "\n",
    "for i in range(len(a)):  # lahko tudi kar po črkah: crka in a\n",
    "  if a[i] == b[j]:\n",
    "    if j < len(b)-1:\n",
    "      j += 1\n",
    "    else:\n",
    "      j = 0\n",
    "    c += a[i]\n",
    "\n",
    "print(len(c)//len(b))\n",
    "\n"
   ]
  },
  {
   "cell_type": "markdown",
   "id": "753afba5",
   "metadata": {},
   "source": [
    "domač analoga: ptice: MDOJ coci08c1p2"
   ]
  }
 ],
 "metadata": {
  "kernelspec": {
   "display_name": "Python 3 (ipykernel)",
   "language": "python",
   "name": "python3"
  },
  "language_info": {
   "codemirror_mode": {
    "name": "ipython",
    "version": 3
   },
   "file_extension": ".py",
   "mimetype": "text/x-python",
   "name": "python",
   "nbconvert_exporter": "python",
   "pygments_lexer": "ipython3",
   "version": "3.9.20"
  }
 },
 "nbformat": 4,
 "nbformat_minor": 5
}
